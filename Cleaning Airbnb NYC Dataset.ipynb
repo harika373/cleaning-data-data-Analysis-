{
  "nbformat": 4,
  "nbformat_minor": 0,
  "metadata": {
    "colab": {
      "provenance": [],
      "authorship_tag": "ABX9TyNrJIjlyZr5WiiWrJhkmgow",
      "include_colab_link": true
    },
    "kernelspec": {
      "name": "python3",
      "display_name": "Python 3"
    },
    "language_info": {
      "name": "python"
    }
  },
  "cells": [
    {
      "cell_type": "markdown",
      "metadata": {
        "id": "view-in-github",
        "colab_type": "text"
      },
      "source": [
        "<a href=\"https://colab.research.google.com/github/harika373/cleaning-data-data-Analysis-/blob/main/Cleaning%20Airbnb%20NYC%20Dataset.ipynb\" target=\"_parent\"><img src=\"https://colab.research.google.com/assets/colab-badge.svg\" alt=\"Open In Colab\"/></a>"
      ]
    },
    {
      "cell_type": "code",
      "execution_count": 3,
      "metadata": {
        "id": "QobHB0ZH4Q1i",
        "colab": {
          "base_uri": "https://localhost:8080/"
        },
        "outputId": "b8b32fdb-b119-4b3c-b77f-70baa9834e05"
      },
      "outputs": [
        {
          "output_type": "stream",
          "name": "stdout",
          "text": [
            "✅ NYC Airbnb dataset cleaned and saved as cleaned_airbnb_nyc.csv\n"
          ]
        }
      ],
      "source": [
        "import pandas as pd\n",
        "import numpy as np\n",
        "\n",
        "# Load dataset (Airbnb NYC Open Data)\n",
        "df_airbnb = pd.read_csv(\"/content/AB_NYC_2019.csv\")\n",
        "\n",
        "# 1. Data Integrity\n",
        "df_airbnb = df_airbnb[\n",
        "    (df_airbnb['latitude'].between(40.5, 40.9)) &\n",
        "    (df_airbnb['longitude'].between(-74.25, -73.7))\n",
        "]\n",
        "df_airbnb = df_airbnb[(df_airbnb['availability_365'].between(0, 365)) & (df_airbnb['price'] > 0)]\n",
        "\n",
        "# 2. Missing Data Handling\n",
        "df_airbnb['last_review'] = pd.to_datetime(df_airbnb['last_review'], errors='coerce')\n",
        "df_airbnb['reviews_per_month'] = df_airbnb['reviews_per_month'].fillna(0)\n",
        "\n",
        "# 3. Duplicate Removal\n",
        "df_airbnb.drop_duplicates(subset='id', inplace=True)\n",
        "\n",
        "# 4. Standardization\n",
        "df_airbnb['price'] = pd.to_numeric(df_airbnb['price'], errors='coerce')\n",
        "df_airbnb['room_type'] = df_airbnb['room_type'].str.title()\n",
        "\n",
        "# 5. Outlier Detection (IQR method on price)\n",
        "Q1 = df_airbnb['price'].quantile(0.25)\n",
        "Q3 = df_airbnb['price'].quantile(0.75)\n",
        "IQR = Q3 - Q1\n",
        "lower, upper = Q1 - 1.5 * IQR, Q3 + 1.5 * IQR\n",
        "df_airbnb = df_airbnb[(df_airbnb['price'] >= lower) & (df_airbnb['price'] <= upper)]\n",
        "\n",
        "# Save cleaned dataset\n",
        "df_airbnb.to_csv(\"cleaned_airbnb_nyc.csv\", index=False)\n",
        "\n",
        "print(\"✅ NYC Airbnb dataset cleaned and saved as cleaned_airbnb_nyc.csv\")\n"
      ]
    }
  ]
}